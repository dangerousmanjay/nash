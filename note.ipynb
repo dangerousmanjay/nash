{
 "cells": [
  {
   "cell_type": "code",
   "execution_count": 1,
   "id": "70bee951",
   "metadata": {},
   "outputs": [],
   "source": [
    "import browser_cookie3\n",
    "from selenium import webdriver\n",
    "from selenium.webdriver.chrome.service import Service\n",
    "from webdriver_manager.chrome import ChromeDriverManager"
   ]
  },
  {
   "cell_type": "code",
   "execution_count": 2,
   "id": "2187e67b",
   "metadata": {},
   "outputs": [
    {
     "name": "stderr",
     "output_type": "stream",
     "text": [
      "[WDM] - \n",
      "\n",
      "[WDM] - ====== WebDriver manager ======\n",
      "[WDM] - Current google-chrome version is 97.0.4692\n",
      "[WDM] - Get LATEST driver version for 97.0.4692\n",
      "[WDM] - Driver [/Users/jay/.wdm/drivers/chromedriver/mac64/97.0.4692.71/chromedriver] found in cache\n"
     ]
    }
   ],
   "source": [
    "driver = webdriver.Chrome(service=Service(ChromeDriverManager().install()))"
   ]
  },
  {
   "cell_type": "code",
   "execution_count": 3,
   "id": "108349c0",
   "metadata": {},
   "outputs": [],
   "source": [
    "driver.get(\"https://naver.com\")"
   ]
  },
  {
   "cell_type": "markdown",
   "id": "1ee68d7f",
   "metadata": {},
   "source": [
    "로그인을 위해 기존 크롬 브라우저의 쿠키 가져와 주입한다."
   ]
  },
  {
   "cell_type": "code",
   "execution_count": 4,
   "id": "326b3bac",
   "metadata": {},
   "outputs": [],
   "source": [
    "for c in browser_cookie3.chrome():\n",
    "    if c.domain == \".naver.com\":\n",
    "        cookie = {\n",
    "            \"domain\": c.domain,\n",
    "            \"name\": c.name,\n",
    "            \"value\": c.value,\n",
    "        }\n",
    "        if c.expires:\n",
    "            cookie[\"expiry\"] = c.expires\n",
    "        if c.path_specified:\n",
    "            cookie[\"path\"] = c.path\n",
    "        driver.add_cookie(cookie)"
   ]
  },
  {
   "cell_type": "code",
   "execution_count": 5,
   "id": "1fb35585",
   "metadata": {},
   "outputs": [],
   "source": [
    "driver.get(\"https://brand.naver.com/xbox/products/5311833860\") # 물량이 남은 xbox series s..."
   ]
  },
  {
   "cell_type": "code",
   "execution_count": 6,
   "id": "4ee3550a",
   "metadata": {},
   "outputs": [],
   "source": [
    "driver.find_element(\"xpath\", \"//span[text()='구매하기']/parent::a\").click()"
   ]
  },
  {
   "cell_type": "code",
   "execution_count": 7,
   "id": "3685077c",
   "metadata": {},
   "outputs": [],
   "source": [
    "driver.find_element(\"xpath\", \"//button[text()='결제하기']\").click()"
   ]
  },
  {
   "cell_type": "markdown",
   "id": "42874d1f",
   "metadata": {},
   "source": [
    "<img src=\"https://i.imgur.com/f8Y3Z3G.png\" alt=\"네이버페이\" width=\"400\"/>"
   ]
  },
  {
   "cell_type": "code",
   "execution_count": 8,
   "id": "674d0ce4",
   "metadata": {},
   "outputs": [],
   "source": [
    "driver.switch_to.window(driver.window_handles[1])"
   ]
  },
  {
   "cell_type": "code",
   "execution_count": 9,
   "id": "fcc82456",
   "metadata": {},
   "outputs": [
    {
     "data": {
      "text/plain": [
       "'background-image: url(\"data:image/png;base64,iVBORw0KGgoAAAANSUhEUgAAAHgAAADICAYAAAAjriWnAAAS1klEQVR...f0sUwJ7oBNiXP90HsfqwdrsaeSz+iq+PxA4vwmJ/teGz6aqwp7i+lInuKwWAwGAwGgxEI/wey49jaz0TuSQAAAABJRU5ErkJg\");'"
      ]
     },
     "execution_count": 9,
     "metadata": {},
     "output_type": "execute_result"
    }
   ],
   "source": [
    "css_data = driver.find_element('xpath', '//span[contains(@class, \"SecureKeyboard\")]').get_attribute(\"style\")\n",
    "css_data[:100] + \"...\" + css_data[-100:]"
   ]
  },
  {
   "cell_type": "code",
   "execution_count": 10,
   "id": "ee9b42e4",
   "metadata": {},
   "outputs": [
    {
     "data": {
      "text/plain": [
       "'iVBORw0KGgoAAAANSUhEUgAAAHgAAADICAYAAAAjriWnAAAS1klEQVR42u1dC7hPVRa/7nW95YbJq6iRUrklNPJoSiSEPEseqYhJ...F1Ef0sUwJ7oBNiXP90HsfqwdrsaeSz+iq+PxA4vwmJ/teGz6aqwp7i+lInuKwWAwGAwGgxEI/wey49jaz0TuSQAAAABJRU5ErkJg'"
      ]
     },
     "execution_count": 10,
     "metadata": {},
     "output_type": "execute_result"
    }
   ],
   "source": [
    "img_data = css_data[css_data.find(',') + 1:css_data.rfind('\"')]\n",
    "img_data[:100] + \"...\" + img_data[-100:]"
   ]
  },
  {
   "cell_type": "code",
   "execution_count": 12,
   "id": "a2dae926",
   "metadata": {},
   "outputs": [],
   "source": [
    "import base64\n",
    "\n",
    "img_name = \"keypad.png\"\n",
    "\n",
    "with open(img_name, \"wb\") as f:\n",
    "    f.write(base64.b64decode(img_data.encode('ascii')))"
   ]
  },
  {
   "cell_type": "code",
   "execution_count": 13,
   "id": "33d78696",
   "metadata": {},
   "outputs": [],
   "source": [
    "import cv2\n",
    "from matplotlib import pyplot as plt\n",
    "import numpy as np\n",
    "from PIL import Image"
   ]
  },
  {
   "cell_type": "code",
   "execution_count": 14,
   "id": "42100818",
   "metadata": {},
   "outputs": [
    {
     "data": {
      "text/plain": [
       "<matplotlib.image.AxesImage at 0x12f94ad90>"
      ]
     },
     "execution_count": 14,
     "metadata": {},
     "output_type": "execute_result"
    },
    {
     "data": {
      "image/png": "[encoded data removed]",
      "text/plain": [
       "<Figure size 432x288 with 1 Axes>"
      ]
     },
     "metadata": {
      "needs_background": "light"
     },
     "output_type": "display_data"
    }
   ],
   "source": [
    "# img = cv2.imread(\"keypad.png\", cv2.IMREAD_COLOR) 이미지가 열릴 때가 있고 아닐 때가 있는데 왜 그럴까..\n",
    "img = np.asarray(Image.open(img_name))\n",
    "img = cv2.cvtColor(img, cv2.COLOR_BGR2GRAY)\n",
    "plt.imshow(img, cmap=\"gray\")"
   ]
  },
  {
   "cell_type": "markdown",
   "id": "4581787e",
   "metadata": {},
   "source": [
    "일렬로 나열했을 때 인식률이 높은 것 같다."
   ]
  },
  {
   "cell_type": "code",
   "execution_count": 15,
   "id": "92a14162",
   "metadata": {},
   "outputs": [
    {
     "data": {
      "image/png": "[encoded data removed]",
      "text/plain": [
       "<Figure size 432x288 with 1 Axes>"
      ]
     },
     "metadata": {
      "needs_background": "light"
     },
     "output_type": "display_data"
    }
   ],
   "source": [
    "transformed_img = np.concatenate((img[:50], img[50:100]), axis=1)\n",
    "transformed_img = np.concatenate((transformed_img, img[100:150]), axis=1)\n",
    "transformed_img = np.concatenate((transformed_img, img[150:200]), axis=1)\n",
    "plt.imshow(transformed_img, cmap=\"gray\")\n",
    "plt.show()"
   ]
  },
  {
   "cell_type": "code",
   "execution_count": 16,
   "id": "a8e5c3ed",
   "metadata": {},
   "outputs": [
    {
     "data": {
      "text/plain": [
       "<matplotlib.image.AxesImage at 0x12fa610d0>"
      ]
     },
     "execution_count": 16,
     "metadata": {},
     "output_type": "execute_result"
    },
    {
     "data": {
      "image/png": "[encoded data removed]",
      "text/plain": [
       "<Figure size 432x288 with 1 Axes>"
      ]
     },
     "metadata": {
      "needs_background": "light"
     },
     "output_type": "display_data"
    }
   ],
   "source": [
    "inverted_img = 255 - transformed_img\n",
    "plt.imshow(inverted_img, cmap=\"gray\")"
   ]
  },
  {
   "cell_type": "code",
   "execution_count": 17,
   "id": "33201f80",
   "metadata": {},
   "outputs": [
    {
     "data": {
      "text/plain": [
       "'3842596170\\n\\x0c'"
      ]
     },
     "execution_count": 17,
     "metadata": {},
     "output_type": "execute_result"
    }
   ],
   "source": [
    "import pytesseract\n",
    "\n",
    "text = pytesseract.image_to_string(inverted_img, config='--psm 7 -c tessedit_char_whitelist=0123456789')\n",
    "text"
   ]
  },
  {
   "cell_type": "code",
   "execution_count": 18,
   "id": "bd794d74",
   "metadata": {},
   "outputs": [
    {
     "data": {
      "text/plain": [
       "['3', '8', '4', '2', '5', '9', '6', '1', '7', '0']"
      ]
     },
     "execution_count": 18,
     "metadata": {},
     "output_type": "execute_result"
    }
   ],
   "source": [
    "import re\n",
    "\n",
    "numbers = list(re.sub(r'[^0-9]', '', text))\n",
    "numbers"
   ]
  },
  {
   "cell_type": "markdown",
   "id": "efa41da2",
   "metadata": {},
   "source": [
    "인식한 이미지의 숫자 위치를 기반으로 키패드를 클릭하여 결제한다."
   ]
  },
  {
   "cell_type": "code",
   "execution_count": 19,
   "id": "302d86b6",
   "metadata": {},
   "outputs": [
    {
     "name": "stdout",
     "output_type": "stream",
     "text": [
      "SecureKeyboard_number__12ZC8 SecureKeyboard_key-1-1__3biwN\n",
      "SecureKeyboard_number__12ZC8 SecureKeyboard_key-1-2__1Rk6d\n",
      "SecureKeyboard_number__12ZC8 SecureKeyboard_key-1-3__2TmUv\n",
      "SecureKeyboard_number__12ZC8 SecureKeyboard_key-2-1__1QUfq\n",
      "SecureKeyboard_number__12ZC8 SecureKeyboard_key-2-2__1ceFR\n",
      "SecureKeyboard_number__12ZC8 SecureKeyboard_key-2-3__1mUE-\n",
      "SecureKeyboard_number__12ZC8 SecureKeyboard_key-3-1__8S-uB\n",
      "SecureKeyboard_number__12ZC8 SecureKeyboard_key-3-2__7TxUE\n",
      "SecureKeyboard_number__12ZC8 SecureKeyboard_key-3-3__35VDa\n",
      "SecureKeyboard_number__12ZC8 SecureKeyboard_key-4-2__XiUgx\n"
     ]
    }
   ],
   "source": [
    "keypads = driver.find_elements('xpath', '//span[contains(@class, \"SecureKeyboard\")]')\n",
    "\n",
    "for k in keypads:\n",
    "    print(k.get_attribute('class'))"
   ]
  },
  {
   "cell_type": "code",
   "execution_count": 20,
   "id": "b07fc569",
   "metadata": {},
   "outputs": [],
   "source": [
    "for x in '123456': # random password\n",
    "    keypads[numbers.index(x)].click()"
   ]
  },
  {
   "cell_type": "code",
   "execution_count": null,
   "id": "cdc1765b",
   "metadata": {},
   "outputs": [],
   "source": []
  }
 ],
 "metadata": {
  "kernelspec": {
   "display_name": "Python 3 (ipykernel)",
   "language": "python",
   "name": "python3"
  },
  "language_info": {
   "codemirror_mode": {
    "name": "ipython",
    "version": 3
   },
   "file_extension": ".py",
   "mimetype": "text/x-python",
   "name": "python",
   "nbconvert_exporter": "python",
   "pygments_lexer": "ipython3",
   "version": "3.9.7"
  }
 },
 "nbformat": 4,
 "nbformat_minor": 5
}
